{
 "cells": [
  {
   "cell_type": "code",
   "execution_count": 1,
   "id": "6d479677-f475-478b-8bb3-6a9c86b48af1",
   "metadata": {},
   "outputs": [
    {
     "name": "stdout",
     "output_type": "stream",
     "text": [
      "Requirement already satisfied: tk in c:\\users\\yanni\\anaconda3\\lib\\site-packages (0.1.0)Note: you may need to restart the kernel to use updated packages.\n",
      "\n"
     ]
    }
   ],
   "source": [
    "pip install tk"
   ]
  },
  {
   "cell_type": "code",
   "execution_count": 7,
   "id": "08c1768b-448a-4b44-ba47-c1b636e3f6bc",
   "metadata": {},
   "outputs": [
    {
     "name": "stdout",
     "output_type": "stream",
     "text": [
      "\n",
      "Welcome to Hangman Game\n",
      "\n"
     ]
    },
    {
     "name": "stdin",
     "output_type": "stream",
     "text": [
      "Enter your name:  yannick\n"
     ]
    },
    {
     "name": "stdout",
     "output_type": "stream",
     "text": [
      "Hello yannick!\n",
      "Best of Luck!\n",
      "The game is about to start!\n",
      " Let's play Hangman!\n"
     ]
    },
    {
     "name": "stdin",
     "output_type": "stream",
     "text": [
      "This is the Hangman Word: ________ Enter your guess: \n",
      " a\n"
     ]
    },
    {
     "name": "stdout",
     "output_type": "stream",
     "text": [
      "a_______\n",
      "\n"
     ]
    },
    {
     "name": "stdin",
     "output_type": "stream",
     "text": [
      "This is the Hangman Word: a_______ Enter your guess: \n",
      " e\n"
     ]
    },
    {
     "name": "stdout",
     "output_type": "stream",
     "text": [
      "a______e\n",
      "\n"
     ]
    },
    {
     "name": "stdin",
     "output_type": "stream",
     "text": [
      "This is the Hangman Word: a______e Enter your guess: \n",
      " i\n"
     ]
    },
    {
     "name": "stdout",
     "output_type": "stream",
     "text": [
      "a___i__e\n",
      "\n"
     ]
    },
    {
     "name": "stdin",
     "output_type": "stream",
     "text": [
      "This is the Hangman Word: a___i__e Enter your guess: \n",
      " u\n"
     ]
    },
    {
     "name": "stdout",
     "output_type": "stream",
     "text": [
      "\n",
      "\n",
      "\n",
      "\n",
      "\n",
      "\n",
      "\n",
      "\n",
      "\n",
      "\n",
      "_____________\n",
      "\n",
      "Wrong guess. 9 guesses remaining\n",
      "\n"
     ]
    },
    {
     "name": "stdin",
     "output_type": "stream",
     "text": [
      "This is the Hangman Word: a___i__e Enter your guess: \n",
      " o\n"
     ]
    },
    {
     "name": "stdout",
     "output_type": "stream",
     "text": [
      "a__oi__e\n",
      "\n"
     ]
    },
    {
     "name": "stdin",
     "output_type": "stream",
     "text": [
      "This is the Hangman Word: a__oi__e Enter your guess: \n",
      " u\n"
     ]
    },
    {
     "name": "stdout",
     "output_type": "stream",
     "text": [
      "\n",
      "\n",
      " |\n",
      "\n",
      " |\n",
      "\n",
      " |\n",
      "\n",
      " |\n",
      "\n",
      " |\n",
      "\n",
      "_|____________\n",
      "\n",
      "Wrong guess. 8 guesses remaining\n",
      "\n"
     ]
    },
    {
     "name": "stdin",
     "output_type": "stream",
     "text": [
      "This is the Hangman Word: a__oi__e Enter your guess: \n",
      " m\n"
     ]
    },
    {
     "name": "stdout",
     "output_type": "stream",
     "text": [
      "_____________\n",
      "\n",
      " |\n",
      "\n",
      " |\n",
      "\n",
      " |\n",
      "\n",
      " |\n",
      "\n",
      " |\n",
      "\n",
      "_|____________\n",
      "\n",
      "Wrong guess. 7 guesses remaining\n",
      "\n"
     ]
    },
    {
     "name": "stdin",
     "output_type": "stream",
     "text": [
      "This is the Hangman Word: a__oi__e Enter your guess: \n",
      " n\n"
     ]
    },
    {
     "name": "stdout",
     "output_type": "stream",
     "text": [
      "an_oi__e\n",
      "\n"
     ]
    },
    {
     "name": "stdin",
     "output_type": "stream",
     "text": [
      "This is the Hangman Word: an_oi__e Enter your guess: \n",
      " t\n"
     ]
    },
    {
     "name": "stdout",
     "output_type": "stream",
     "text": [
      "_____________\n",
      "\n",
      " | /\n",
      "\n",
      " |/\n",
      "\n",
      " |\n",
      "\n",
      " |\n",
      "\n",
      " |\n",
      "\n",
      "_|____________\n",
      "\n",
      "Wrong guess. 6 guesses remaining\n",
      "\n"
     ]
    },
    {
     "name": "stdin",
     "output_type": "stream",
     "text": [
      "This is the Hangman Word: an_oi__e Enter your guess: \n",
      " n\n"
     ]
    },
    {
     "name": "stdout",
     "output_type": "stream",
     "text": [
      "['a', 'e', 'i', 'o', 'n']\n",
      "Already letter used, try another letter.\n",
      "\n"
     ]
    },
    {
     "name": "stdin",
     "output_type": "stream",
     "text": [
      "This is the Hangman Word: an_oi__e Enter your guess: \n",
      " v\n"
     ]
    },
    {
     "name": "stdout",
     "output_type": "stream",
     "text": [
      "_____________\n",
      "\n",
      " | /       |\n",
      "\n",
      " |/\n",
      "\n",
      " |\n",
      "\n",
      " |\n",
      "\n",
      " |\n",
      "\n",
      "_|____________\n",
      "\n",
      "Wrong guess. 5 guesses remaining\n",
      "\n"
     ]
    },
    {
     "name": "stdin",
     "output_type": "stream",
     "text": [
      "This is the Hangman Word: an_oi__e Enter your guess: \n",
      " n\n"
     ]
    },
    {
     "name": "stdout",
     "output_type": "stream",
     "text": [
      "['a', 'e', 'i', 'o', 'n']\n",
      "Already letter used, try another letter.\n",
      "\n"
     ]
    },
    {
     "name": "stdin",
     "output_type": "stream",
     "text": [
      "This is the Hangman Word: an_oi__e Enter your guess: \n",
      " c\n"
     ]
    },
    {
     "name": "stdout",
     "output_type": "stream",
     "text": [
      "_____________\n",
      "\n",
      " | /       |\n",
      "\n",
      " |/        O\n",
      "\n",
      " |\n",
      "\n",
      " |\n",
      "\n",
      " |\n",
      "\n",
      "_|____________\n",
      "\n",
      "Wrong guess. 4 guesses remaining\n",
      "\n"
     ]
    },
    {
     "name": "stdin",
     "output_type": "stream",
     "text": [
      "This is the Hangman Word: an_oi__e Enter your guess: \n",
      " d\n"
     ]
    },
    {
     "name": "stdout",
     "output_type": "stream",
     "text": [
      "_____________\n",
      "\n",
      " | /       |\n",
      "\n",
      " |/        O\n",
      "\n",
      " |         |\n",
      "\n",
      " |\n",
      "\n",
      " |\n",
      "\n",
      "_|____________\n",
      "\n",
      "Wrong guess. 3 guesses remaining\n",
      "\n"
     ]
    },
    {
     "name": "stdin",
     "output_type": "stream",
     "text": [
      "This is the Hangman Word: an_oi__e Enter your guess: \n",
      " g\n"
     ]
    },
    {
     "name": "stdout",
     "output_type": "stream",
     "text": [
      "angoi__e\n",
      "\n"
     ]
    },
    {
     "name": "stdin",
     "output_type": "stream",
     "text": [
      "This is the Hangman Word: angoi__e Enter your guess: \n",
      " s\n"
     ]
    },
    {
     "name": "stdout",
     "output_type": "stream",
     "text": [
      "angois_e\n",
      "\n"
     ]
    },
    {
     "name": "stdin",
     "output_type": "stream",
     "text": [
      "This is the Hangman Word: angois_e Enter your guess: \n",
      " s\n"
     ]
    },
    {
     "name": "stdout",
     "output_type": "stream",
     "text": [
      "angoisse\n",
      "\n",
      "Congrats! You have guessed the word correctly!\n",
      "The word was 'angoisse'\n"
     ]
    },
    {
     "name": "stdin",
     "output_type": "stream",
     "text": [
      "Do You want to play again? y = yes, n = no \n",
      " y\n"
     ]
    }
   ],
   "source": [
    "#### Hangman Game#####\n",
    "\n",
    "from tkinter import*\n",
    "fichier = open(\"liste_mots.txt\", \"r\")\n",
    "liste_mots = fichier.readlines()    # met tous les mots du fichier dans une liste\n",
    "fichier.close()\n",
    "\n",
    "import random\n",
    "import time\n",
    "\n",
    "from list_of_words import words_list \n",
    "from hangman_functions import *\n",
    "from hangman_drawings import *\n",
    "\n",
    "# Initial Steps to invite in the game:\n",
    "print(\"\\nWelcome to Hangman Game\\n\")\n",
    "name = input(\"Enter your name: \")\n",
    "print(\"Hello \" + name + \"!\\nBest of Luck!\")\n",
    "time.sleep(1)\n",
    "print(\"The game is about to start!\\n Let's play Hangman!\")\n",
    "time.sleep(3)\n",
    " \n",
    "#loading_game() \n",
    " \n",
    "# The parameters we require to execute the game:\n",
    "def main():\n",
    "    global count, disp, word, leng, already_g\n",
    "    word = word_selection(words_list) # Use of fonction 'word_selection' in file 'hangman_functions.py'\n",
    "    leng = word_length(word) # Use of 'word_length'\n",
    "    count = 0\n",
    "    disp = word_shape() * leng # Length of word with '_'\n",
    "    already_g =[] #List of words already selected\n",
    "    play_g = \"\"\n",
    "\n",
    "# An iteration of the game when the first round ends:\n",
    " \n",
    "def iter_game():\n",
    "    global play_g\n",
    "    play_g = input(\"Do You want to play again? y = yes, n = no \\n\")\n",
    "    while play_g not in [\"y\", \"n\",\"Y\",\"N\"]:\n",
    "        play_g = input(\"Do You want to play again? y = yes, n = no \\n\")\n",
    "    if play_g == \"y\":\n",
    "        clear()\n",
    "        main()\n",
    "    elif play_g == \"n\":\n",
    "        print(\"Thanks For Playing! We expect you back again!\")\n",
    "        exit()\n",
    "\n",
    "# Initializing all the conditions required for the game:\n",
    "def hangman():\n",
    "    global count, disp, word, already_g, play_g\n",
    "    limit = 10\n",
    "    guess = input(\"This is the Hangman Word: \" + disp + \" Enter your guess: \\n\")\n",
    "    guess = guess.strip()\n",
    "    if len(guess.strip()) == 0 or len(guess.strip()) >=2:\n",
    "        print(\"Invalid Input, Try a letter\\n\")\n",
    "        hangman()\n",
    " \n",
    " \n",
    "    elif guess in word:\n",
    "        already_g.extend(guess) # Add of letters already used in word to find\n",
    "        ind = word.find(guess) # Research of letter in the word \n",
    "        word = word[:ind] + word_shape() + word[ind + 1:] \n",
    "        disp = disp[:ind] + guess + disp[ind + 1:] # Complete the mystery word, with letter found\n",
    "        print(disp + \"\\n\")\n",
    " \n",
    "    elif guess in already_g:\n",
    "        print(already_g)\n",
    "        print(\"Already letter used, try another letter.\\n\")   \n",
    " \n",
    "    else:\n",
    "        count += 1\n",
    "        draw={1: f1, 2: f2, 3: f3, 4: f4, 5: f5, 6: f6, 7: f7, 8: f8, 9: f9, 10: f10}\n",
    "\n",
    "        for i in range(1,10):\n",
    "              \n",
    "              if count == i:\n",
    "                 time.sleep(1)\n",
    "                 draw[i]()\n",
    "                 print(\"Wrong guess. \" + str(limit - count) + \" guesses remaining\\n\") \n",
    "\n",
    "            \n",
    "              elif count == 10:\n",
    "                 time.sleep(1)\n",
    "                 draw[10]()  \n",
    "                 dead_func()\n",
    "                 print(\"The word was: '{}'\".format(word),already_g)\n",
    "                 iter_game()\n",
    "                        \n",
    "                        \n",
    "    if word == word_shape()*leng:\n",
    "        print(\"Congrats! You have guessed the word correctly!\")\n",
    "        print(\"The word was '{}'\".format(disp))\n",
    "        iter_game()\n",
    " \n",
    "    elif count != limit:\n",
    "        hangman()\n",
    " \n",
    " \n",
    "main()\n",
    " \n",
    " \n",
    "hangman()"
   ]
  },
  {
   "cell_type": "code",
   "execution_count": null,
   "id": "eb050fb2-cd4e-4be3-b90f-f4f07bf7d495",
   "metadata": {},
   "outputs": [],
   "source": []
  }
 ],
 "metadata": {
  "kernelspec": {
   "display_name": "Python 3",
   "language": "python",
   "name": "python3"
  },
  "language_info": {
   "codemirror_mode": {
    "name": "ipython",
    "version": 3
   },
   "file_extension": ".py",
   "mimetype": "text/x-python",
   "name": "python",
   "nbconvert_exporter": "python",
   "pygments_lexer": "ipython3",
   "version": "3.8.8"
  }
 },
 "nbformat": 4,
 "nbformat_minor": 5
}
