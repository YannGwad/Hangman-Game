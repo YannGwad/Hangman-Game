{
 "cells": [
  {
   "cell_type": "code",
   "execution_count": 1,
   "metadata": {
    "colab": {
     "base_uri": "https://localhost:8080/"
    },
    "executionInfo": {
     "elapsed": 5381,
     "status": "ok",
     "timestamp": 1638532697545,
     "user": {
      "displayName": "Yannick Quérin",
      "photoUrl": "https://lh3.googleusercontent.com/a/default-user=s64",
      "userId": "04959125604650246846"
     },
     "user_tz": -60
    },
    "id": "ZKH_FXRHJ3GB",
    "outputId": "be1a31a7-3ca0-41f3-e0fa-6d6a8ec3b20a"
   },
   "outputs": [
    {
     "name": "stdout",
     "output_type": "stream",
     "text": [
      "Collecting tk\n",
      "  Downloading tk-0.1.0-py3-none-any.whl (3.9 kB)\n",
      "Installing collected packages: tk\n",
      "Successfully installed tk-0.1.0\n",
      "Note: you may need to restart the kernel to use updated packages.\n"
     ]
    }
   ],
   "source": [
    "pip install tk"
   ]
  },
  {
   "cell_type": "code",
   "execution_count": 2,
   "metadata": {
    "colab": {
     "base_uri": "https://localhost:8080/",
     "height": 235
    },
    "executionInfo": {
     "elapsed": 337,
     "status": "error",
     "timestamp": 1638534213810,
     "user": {
      "displayName": "Yannick Quérin",
      "photoUrl": "https://lh3.googleusercontent.com/a/default-user=s64",
      "userId": "04959125604650246846"
     },
     "user_tz": -60
    },
    "id": "CTrigqz2KE-1",
    "outputId": "1264bb3a-1041-4e86-997f-db45669d7c82"
   },
   "outputs": [
    {
     "ename": "TclError",
     "evalue": "can't invoke \"destroy\" command: application has been destroyed",
     "output_type": "error",
     "traceback": [
      "\u001b[1;31m---------------------------------------------------------------------------\u001b[0m",
      "\u001b[1;31mTclError\u001b[0m                                  Traceback (most recent call last)",
      "\u001b[1;32m<ipython-input-2-4dd001a3585d>\u001b[0m in \u001b[0;36m<module>\u001b[1;34m\u001b[0m\n\u001b[0;32m     92\u001b[0m \u001b[1;33m\u001b[0m\u001b[0m\n\u001b[0;32m     93\u001b[0m \u001b[0mfenetre\u001b[0m\u001b[1;33m.\u001b[0m\u001b[0mmainloop\u001b[0m\u001b[1;33m(\u001b[0m\u001b[1;33m)\u001b[0m\u001b[1;33m\u001b[0m\u001b[1;33m\u001b[0m\u001b[0m\n\u001b[1;32m---> 94\u001b[1;33m \u001b[0mfenetre\u001b[0m\u001b[1;33m.\u001b[0m\u001b[0mdestroy\u001b[0m\u001b[1;33m(\u001b[0m\u001b[1;33m)\u001b[0m\u001b[1;33m\u001b[0m\u001b[1;33m\u001b[0m\u001b[0m\n\u001b[0m",
      "\u001b[1;32m~\\anaconda3\\lib\\tkinter\\__init__.py\u001b[0m in \u001b[0;36mdestroy\u001b[1;34m(self)\u001b[0m\n\u001b[0;32m   2310\u001b[0m         end the application of this Tcl interpreter.\"\"\"\n\u001b[0;32m   2311\u001b[0m         \u001b[1;32mfor\u001b[0m \u001b[0mc\u001b[0m \u001b[1;32min\u001b[0m \u001b[0mlist\u001b[0m\u001b[1;33m(\u001b[0m\u001b[0mself\u001b[0m\u001b[1;33m.\u001b[0m\u001b[0mchildren\u001b[0m\u001b[1;33m.\u001b[0m\u001b[0mvalues\u001b[0m\u001b[1;33m(\u001b[0m\u001b[1;33m)\u001b[0m\u001b[1;33m)\u001b[0m\u001b[1;33m:\u001b[0m \u001b[0mc\u001b[0m\u001b[1;33m.\u001b[0m\u001b[0mdestroy\u001b[0m\u001b[1;33m(\u001b[0m\u001b[1;33m)\u001b[0m\u001b[1;33m\u001b[0m\u001b[1;33m\u001b[0m\u001b[0m\n\u001b[1;32m-> 2312\u001b[1;33m         \u001b[0mself\u001b[0m\u001b[1;33m.\u001b[0m\u001b[0mtk\u001b[0m\u001b[1;33m.\u001b[0m\u001b[0mcall\u001b[0m\u001b[1;33m(\u001b[0m\u001b[1;34m'destroy'\u001b[0m\u001b[1;33m,\u001b[0m \u001b[0mself\u001b[0m\u001b[1;33m.\u001b[0m\u001b[0m_w\u001b[0m\u001b[1;33m)\u001b[0m\u001b[1;33m\u001b[0m\u001b[1;33m\u001b[0m\u001b[0m\n\u001b[0m\u001b[0;32m   2313\u001b[0m         \u001b[0mMisc\u001b[0m\u001b[1;33m.\u001b[0m\u001b[0mdestroy\u001b[0m\u001b[1;33m(\u001b[0m\u001b[0mself\u001b[0m\u001b[1;33m)\u001b[0m\u001b[1;33m\u001b[0m\u001b[1;33m\u001b[0m\u001b[0m\n\u001b[0;32m   2314\u001b[0m         \u001b[1;32mglobal\u001b[0m \u001b[0m_default_root\u001b[0m\u001b[1;33m\u001b[0m\u001b[1;33m\u001b[0m\u001b[0m\n",
      "\u001b[1;31mTclError\u001b[0m: can't invoke \"destroy\" command: application has been destroyed"
     ]
    }
   ],
   "source": [
    "# Le jeu du pendu\n",
    " \n",
    "from tkinter import *\n",
    "from random import choice\n",
    " \n",
    "fichier = open(\"liste_mots.txt\", \"r\")\n",
    "liste_mots = fichier.readlines()    # met tous les mots du fichier dans une liste\n",
    "fichier.close()\n",
    "\n",
    "\n",
    "def lettre_dans_mot(lettre) :\n",
    "    global partie_en_cours, mot_partiel, mot_choisi, nb_echecs, image_pendu\n",
    "    if partie_en_cours : \n",
    "        nouveau_mot_partiel = \"\"\n",
    "        lettre_dans_mot = False\n",
    "        i=0\n",
    "        while i<len(mot_choisi):\n",
    "            if mot_choisi[i]==lettre:\n",
    "                nouveau_mot_partiel = nouveau_mot_partiel + lettre\n",
    "                lettre_dans_mot = True \n",
    "            else:\n",
    "                nouveau_mot_partiel = nouveau_mot_partiel + mot_partiel[i]\n",
    "            i+=1\n",
    "        mot_partiel = nouveau_mot_partiel  \n",
    "        afficher_mot(mot_partiel)\n",
    "        if not lettre_dans_mot :        # lettre fausse. Changer le dessin.\n",
    "            nb_echecs += 1\n",
    "            nomFichier = \"pendu_\"+str(nb_echecs)+\".gif\"\n",
    "            photo=PhotoImage(file=nomFichier)\n",
    "            image_pendu.config(image=photo)\n",
    "            image_pendu.image=photo\n",
    "            \n",
    "            if nb_echecs == 7:  # trop d'erreurs. Fini.\n",
    "                partie_en_cours = False\n",
    "                afficher_mot(mot_choisi)\n",
    "        elif mot_partiel == mot_choisi:  # le mot a été trouvé !\n",
    "            partie_en_cours = False\n",
    "            \n",
    " \n",
    "\n",
    "def afficher_mot(mot):\n",
    "    global lettres\n",
    "    mot_large = \"\"\n",
    "    i=0\n",
    "    while i<len(mot):  # ajoute un espace entre les lettres\n",
    "        mot_large = mot_large + mot[i] + \" \"\n",
    "        i+=1\n",
    "    canevas.delete(lettres)\n",
    "    lettres = canevas.create_text(320,60,text=mot_large,fill='black',font='Courrier 30') \n",
    "    \n",
    "    \n",
    "\n",
    "    \n",
    "def init_jeu():\n",
    "    global mot_choisi, mot_partiel, image_pendu, lettres\n",
    "    global nb_echecs, partie_en_cours, liste_mots\n",
    "    nb_echecs = 0\n",
    "    partie_en_cours = True\n",
    "    mot_choisi = choice(liste_mots).rstrip()\n",
    "    mot_choisi = mot_choisi.upper()\n",
    "    mot_partiel = \"-\" * len(mot_choisi)\n",
    "    afficher_mot(mot_partiel)\n",
    "    photo=PhotoImage(file=\"pendu_0.gif\")\n",
    "    image_pendu.config(image=photo)\n",
    "    image_pendu.image=photo\n",
    "        \n",
    "\n",
    "# création du widget principal\n",
    "\n",
    "fenetre = Tk()\n",
    "fenetre.title(\"Le jeu du pendu\")\n",
    "\n",
    "canevas = Canvas(fenetre, bg='white', height=500, width=620)\n",
    "canevas.pack(side=BOTTOM)\n",
    "\n",
    "bouton = [0]*26\n",
    "for i in range(26):\n",
    "    bouton[i] = Button(fenetre,text=chr(i+65),command=lambda x=i+65:lettre_dans_mot(chr(x)))\n",
    "    bouton[i].pack(side=LEFT)\n",
    "\n",
    "bouton2 = Button(fenetre,text='Quitter',command=fenetre.quit)\n",
    "bouton2.pack(side=RIGHT)\n",
    "bouton1 = Button(fenetre,text='Recommencer',command=init_jeu)\n",
    "bouton1.pack(side=RIGHT)\n",
    "\n",
    "photo=PhotoImage(file=\"pendu_0.gif\")\n",
    "image_pendu = Label(canevas, image=photo, border=0)\n",
    "image_pendu.place(x=120, y=140)\n",
    "lettres = canevas.create_text(320,60,text=\"\",fill='black',font='Courrier 30') \n",
    "\n",
    "init_jeu()\n",
    "\n",
    "fenetre.mainloop()\n",
    "fenetre.destroy()"
   ]
  },
  {
   "cell_type": "code",
   "execution_count": null,
   "metadata": {},
   "outputs": [],
   "source": []
  }
 ],
 "metadata": {
  "colab": {
   "authorship_tag": "ABX9TyM5ADZp8cm/NmD3htV8o+RB",
   "collapsed_sections": [],
   "mount_file_id": "1N-Da3vfSxlvjopwZRWFhQYhAdEXun4J3",
   "name": "YQ_Hangman.ipynb",
   "provenance": []
  },
  "kernelspec": {
   "display_name": "Python 3",
   "language": "python",
   "name": "python3"
  },
  "language_info": {
   "codemirror_mode": {
    "name": "ipython",
    "version": 3
   },
   "file_extension": ".py",
   "mimetype": "text/x-python",
   "name": "python",
   "nbconvert_exporter": "python",
   "pygments_lexer": "ipython3",
   "version": "3.8.8"
  }
 },
 "nbformat": 4,
 "nbformat_minor": 4
}
